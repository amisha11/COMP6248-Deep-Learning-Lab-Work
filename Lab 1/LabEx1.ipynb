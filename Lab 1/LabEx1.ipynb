{
  "nbformat": 4,
  "nbformat_minor": 0,
  "metadata": {
    "colab": {
      "name": "LabEx1_Q1.ipynb",
      "provenance": [],
      "collapsed_sections": []
    },
    "kernelspec": {
      "name": "python3",
      "display_name": "Python 3"
    },
    "language_info": {
      "name": "python"
    }
  },
  "cells": [
    {
      "cell_type": "code",
      "execution_count": null,
      "metadata": {
        "id": "GZTZjvhSWubF"
      },
      "outputs": [],
      "source": [
        "from typing import Tuple\n",
        "import torch"
      ]
    },
    {
      "cell_type": "code",
      "source": [
        "def sgd_factorise(A: torch.Tensor, rank: int, epochs = 1000, lr = 0.01):\n",
        "  [m, n] = A.shape\n",
        "  U = torch.rand(m, rank)\n",
        "  V = torch.rand(rank, n)\n",
        "\n",
        "  for epoch in range(epochs):\n",
        "    for r in range(m):\n",
        "      for c in range(n):\n",
        "        e = A[r, c] - torch.dot(U[r, :], V[:, c])\n",
        "        U[r, :] = U[r, :] + (lr * e * V[:, c])\n",
        "        V[:, c] = V[:, c] + (lr * e * U[r, :])\n",
        "\n",
        "  return U, V"
      ],
      "metadata": {
        "id": "HbPTCHfUXDFx"
      },
      "execution_count": null,
      "outputs": []
    },
    {
      "cell_type": "code",
      "source": [
        "def truncated_svd(A: torch.Tensor, truncate = -1):\n",
        "  U, S, V = torch.linalg.svd(A)\n",
        "  S[-1] = 0\n",
        "  return U, torch.diag(S), V"
      ],
      "metadata": {
        "id": "2KC2tlo2YwcM",
        "colab": {
          "base_uri": "https://localhost:8080/",
          "height": 218
        },
        "outputId": "92cde56a-03bf-4576-c8ad-0b109c83e0ca"
      },
      "execution_count": null,
      "outputs": [
        {
          "output_type": "error",
          "ename": "NameError",
          "evalue": "ignored",
          "traceback": [
            "\u001b[0;31m---------------------------------------------------------------------------\u001b[0m",
            "\u001b[0;31mNameError\u001b[0m                                 Traceback (most recent call last)",
            "\u001b[0;32m<ipython-input-2-ffc916a4333e>\u001b[0m in \u001b[0;36m<module>\u001b[0;34m()\u001b[0m\n\u001b[0;32m----> 1\u001b[0;31m \u001b[0;32mdef\u001b[0m \u001b[0mtruncated_svd\u001b[0m\u001b[0;34m(\u001b[0m\u001b[0mA\u001b[0m\u001b[0;34m:\u001b[0m \u001b[0mtorch\u001b[0m\u001b[0;34m.\u001b[0m\u001b[0mTensor\u001b[0m\u001b[0;34m,\u001b[0m \u001b[0mtruncate\u001b[0m \u001b[0;34m=\u001b[0m \u001b[0;34m-\u001b[0m\u001b[0;36m1\u001b[0m\u001b[0;34m)\u001b[0m\u001b[0;34m:\u001b[0m\u001b[0;34m\u001b[0m\u001b[0;34m\u001b[0m\u001b[0m\n\u001b[0m\u001b[1;32m      2\u001b[0m   \u001b[0mU\u001b[0m\u001b[0;34m,\u001b[0m \u001b[0mS\u001b[0m\u001b[0;34m,\u001b[0m \u001b[0mV\u001b[0m \u001b[0;34m=\u001b[0m \u001b[0mtorch\u001b[0m\u001b[0;34m.\u001b[0m\u001b[0mlinalg\u001b[0m\u001b[0;34m.\u001b[0m\u001b[0msvd\u001b[0m\u001b[0;34m(\u001b[0m\u001b[0mA\u001b[0m\u001b[0;34m)\u001b[0m\u001b[0;34m\u001b[0m\u001b[0;34m\u001b[0m\u001b[0m\n\u001b[1;32m      3\u001b[0m   \u001b[0mS\u001b[0m\u001b[0;34m[\u001b[0m\u001b[0;34m-\u001b[0m\u001b[0;36m1\u001b[0m\u001b[0;34m]\u001b[0m \u001b[0;34m=\u001b[0m \u001b[0;36m0\u001b[0m\u001b[0;34m\u001b[0m\u001b[0;34m\u001b[0m\u001b[0m\n\u001b[1;32m      4\u001b[0m   \u001b[0;32mreturn\u001b[0m \u001b[0mU\u001b[0m\u001b[0;34m,\u001b[0m \u001b[0mtorch\u001b[0m\u001b[0;34m.\u001b[0m\u001b[0mdiag\u001b[0m\u001b[0;34m(\u001b[0m\u001b[0mS\u001b[0m\u001b[0;34m)\u001b[0m\u001b[0;34m,\u001b[0m \u001b[0mV\u001b[0m\u001b[0;34m\u001b[0m\u001b[0;34m\u001b[0m\u001b[0m\n",
            "\u001b[0;31mNameError\u001b[0m: name 'torch' is not defined"
          ]
        }
      ]
    },
    {
      "cell_type": "code",
      "source": [
        "A = torch.Tensor([[0.3374, 0.6005, 0.1735], [3.3359, 0.0492, 1.8374], [2.9407, 0.5301, 2.2620]])\n",
        "\n",
        "U, V = sgd_factorise(A, 2)\n",
        "X, S, Y = truncated_svd(A)\n",
        "\n",
        "print(U)\n",
        "print(V)\n",
        "\n",
        "svdGradMse = torch.nn.functional.mse_loss(U@V, A, size_average=None, reduce=None, reduction='sum')\n",
        "truncatedSvdMse = torch.nn.functional.mse_loss(X@S@Y, A, size_average=None, reduce=None, reduction='sum')\n",
        "\n",
        "print(\"SVD Gradient error: \" + str(svdGradMse))\n",
        "print(\"Truncated SVD error: \" + str(truncatedSvdMse))"
      ],
      "metadata": {
        "colab": {
          "base_uri": "https://localhost:8080/"
        },
        "id": "qM8Luz16ZlZH",
        "outputId": "741c955b-1056-4979-95ba-48e50dd042e3"
      },
      "execution_count": null,
      "outputs": [
        {
          "output_type": "stream",
          "name": "stdout",
          "text": [
            "tensor([[ 0.6966, -0.2414],\n",
            "        [ 0.5549,  1.4885],\n",
            "        [ 1.1043,  1.1078]])\n",
            "tensor([[ 0.9785,  0.7543,  0.8107],\n",
            "        [ 1.7955, -0.2584,  1.0558]])\n",
            "SVD Gradient error: tensor(0.1310)\n",
            "Truncated SVD error: tensor(0.1219)\n"
          ]
        }
      ]
    },
    {
      "cell_type": "code",
      "source": [
        "def masked_factorisation(A: torch.Tensor, mask:torch.Tensor, rank:int, epochs = 1000, lr = 0.01):\n",
        "  [m, n] = A.shape\n",
        "  U = torch.rand(m, rank)\n",
        "  V = torch.rand(rank, n)\n",
        "\n",
        "  for epoch in range(epochs):\n",
        "    for r in range(m):\n",
        "      for c in range(n):\n",
        "        if (mask[r, c] == 1):\n",
        "          e = A[r, c] - torch.dot(U[r, :], V[:, c])\n",
        "          U[r, :] = U[r, :] + (lr * e * V[:, c])\n",
        "          V[:, c] = V[:, c] + (lr * e * U[r, :])\n",
        "          \n",
        "  return U, V"
      ],
      "metadata": {
        "id": "cYvq0qPehzom"
      },
      "execution_count": null,
      "outputs": []
    },
    {
      "cell_type": "code",
      "source": [
        "B = torch.Tensor([[0.3374, 0.6005, 0.1735], [0.7374, 0.0492, 1.8374], [2.9407, 0.673, 2.2620]])\n",
        "mask = torch.Tensor([[1, 1, 1], [0, 1, 1], [1, 0, 1]])\n",
        "\n",
        "U, V = masked_factorisation(B, mask, 2)\n",
        "maskedFactMse = torch.nn.functional.mse_loss(U@V, A, size_average=None, reduce=None, reduction='sum')\n",
        "print(maskedFactMse)\n",
        "print(U@V)\n",
        "print(A)"
      ],
      "metadata": {
        "colab": {
          "base_uri": "https://localhost:8080/"
        },
        "id": "1RtsAgVmiva4",
        "outputId": "9a51ef33-364c-4992-84c9-643c03ea2ecc"
      },
      "execution_count": null,
      "outputs": [
        {
          "output_type": "stream",
          "name": "stdout",
          "text": [
            "tensor(1.0302)\n",
            "tensor([[0.3364, 0.6006, 0.1747],\n",
            "        [2.3216, 0.0492, 1.8377],\n",
            "        [2.9410, 0.4924, 2.2616]])\n",
            "tensor([[0.3374, 0.6005, 0.1735],\n",
            "        [3.3359, 0.0492, 1.8374],\n",
            "        [2.9407, 0.5301, 2.2620]])\n"
          ]
        }
      ]
    }
  ]
}