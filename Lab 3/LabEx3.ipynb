{
  "nbformat": 4,
  "nbformat_minor": 0,
  "metadata": {
    "colab": {
      "name": "LabEx3.ipynb",
      "provenance": []
    },
    "kernelspec": {
      "name": "python3",
      "display_name": "Python 3"
    },
    "language_info": {
      "name": "python"
    }
  },
  "cells": [
    {
      "cell_type": "markdown",
      "source": [
        "# **2D Rastrigin function**\n",
        "A non-convex function used as a performance test problem for optimization algorithms."
      ],
      "metadata": {
        "id": "F3xrhlY6aCaz"
      }
    },
    {
      "cell_type": "code",
      "execution_count": null,
      "metadata": {
        "id": "UvCBpKCaG-25"
      },
      "outputs": [],
      "source": [
        "import torch\n",
        "import torch.optim as optim\n",
        "import numpy as np\n",
        "import matplotlib.pyplot as plt\n",
        "\n",
        "epochs = 100\n",
        "\n",
        "def rastrigrin(x):\n",
        "  n = x.size(dim=0)\n",
        "  A = torch.tensor(1, requires_grad = True, dtype=float)\n",
        "  return (A * n) + torch.sum(torch.pow(x, 2) - A * torch.cos(2 * np.pi * x))"
      ]
    },
    {
      "cell_type": "code",
      "source": [
        "#x = torch.tensor([1.0, 1.0])\n",
        "#print(rastrigrin(x))\n",
        "\n",
        "def optimise(opt, loss):\n",
        "  loss = np.empty(0)\n",
        "  for i in range(epochs):\n",
        "    opt.zero_grad()\n",
        "    output = rastrigrin(p)\n",
        "    output.backward()\n",
        "    opt.step()\n",
        "    loss = np.append(loss, [output.data])\n",
        "  return loss\n"
      ],
      "metadata": {
        "id": "gugHvj-7cCbo"
      },
      "execution_count": null,
      "outputs": []
    },
    {
      "cell_type": "code",
      "source": [
        "p = torch.tensor([5.0, 5.0], requires_grad=True)\n",
        "opt = optim.SGD([p], lr=0.01, momentum=0.9)\n",
        "loss_mom = optimise(opt, np.empty(0))\n",
        "print(\"Function value: \" + str(loss_mom[-1]))"
      ],
      "metadata": {
        "id": "liyGdowws4qP",
        "colab": {
          "base_uri": "https://localhost:8080/"
        },
        "outputId": "8c3483f7-3ed4-4faf-d797-a8f7c7e5002d"
      },
      "execution_count": null,
      "outputs": [
        {
          "output_type": "stream",
          "name": "stdout",
          "text": [
            "Function value: 1.9028429985046387\n"
          ]
        }
      ]
    },
    {
      "cell_type": "code",
      "source": [
        "p = torch.tensor([5.0, 5.0], requires_grad=True)\n",
        "opt = optim.SGD([p], lr=0.01)\n",
        "loss_sgd = optimise(opt, np.empty(0))\n",
        "print(\"Function value: \" + str(loss_sgd[-1]))"
      ],
      "metadata": {
        "id": "y544SNCzlek0",
        "colab": {
          "base_uri": "https://localhost:8080/"
        },
        "outputId": "e7f18d69-02a9-43c8-d64c-a5c4d22171d7"
      },
      "execution_count": null,
      "outputs": [
        {
          "output_type": "stream",
          "name": "stdout",
          "text": [
            "Function value: 17.053133010864258\n"
          ]
        }
      ]
    },
    {
      "cell_type": "code",
      "source": [
        "p = torch.tensor([5.0, 5.0], requires_grad=True)\n",
        "opt = optim.Adam([p], lr=0.01)\n",
        "loss_adam = optimise(opt, np.empty(0))\n",
        "print(\"Function value: \" + str(loss_adam[-1]))"
      ],
      "metadata": {
        "id": "kX2O3itwloBO",
        "colab": {
          "base_uri": "https://localhost:8080/"
        },
        "outputId": "e0ffcb3d-1b2b-4d3f-c49c-3f86fe0bea37"
      },
      "execution_count": null,
      "outputs": [
        {
          "output_type": "stream",
          "name": "stdout",
          "text": [
            "Function value: 31.296653747558594\n"
          ]
        }
      ]
    },
    {
      "cell_type": "code",
      "source": [
        "p = torch.tensor([5.0, 5.0], requires_grad=True)\n",
        "opt = optim.Adagrad([p], lr=0.01)\n",
        "loss_agrad = optimise(opt, np.empty(0))\n",
        "print(\"Function value: \" + str(loss_agrad[-1]))"
      ],
      "metadata": {
        "id": "JDEIQx_zlpIv",
        "colab": {
          "base_uri": "https://localhost:8080/"
        },
        "outputId": "1c0f39a3-2f39-494a-f7c3-7489af4b034c"
      },
      "execution_count": null,
      "outputs": [
        {
          "output_type": "stream",
          "name": "stdout",
          "text": [
            "Function value: 47.806068420410156\n"
          ]
        }
      ]
    },
    {
      "cell_type": "code",
      "source": [
        "ax = plt.subplot(1,1,1)\n",
        "p1, = ax.plot(loss_sgd, label=\"SGD\")\n",
        "p2, = ax.plot(loss_mom, label=\"SGD with Moment\")\n",
        "p3, = ax.plot(loss_adam, label=\"Adam\")\n",
        "p4, = ax.plot(loss_agrad, label=\"Adagrad\")\n",
        "\n",
        "plt.xlabel(\"Epoch\")\n",
        "plt.ylabel(\"Objective function value\")\n",
        "\n",
        "handles, labels = ax.get_legend_handles_labels()\n",
        "\n",
        "# reverse the order\n",
        "ax.legend(handles[::-1], labels[::-1], bbox_to_anchor=(1.0, 1.0), borderpad=0.2)\n",
        "#plt.savefig('loss_plot')"
      ],
      "metadata": {
        "colab": {
          "base_uri": "https://localhost:8080/",
          "height": 279
        },
        "id": "jt2C0eBXhrfm",
        "outputId": "374f06aa-a7ea-4e0e-d327-1b11ada74073"
      },
      "execution_count": null,
      "outputs": [
        {
          "output_type": "display_data",
          "data": {
            "text/plain": [
              "<Figure size 432x288 with 1 Axes>"
            ],
            "image/png": "[encoded data removed]"
          },
          "metadata": {
            "needs_background": "light"
          }
        }
      ]
    },
    {
      "cell_type": "markdown",
      "source": [
        "# **Soft-margin SVM**"
      ],
      "metadata": {
        "id": "w8fy-BteevFR"
      }
    },
    {
      "cell_type": "code",
      "source": [
        "import torch\n",
        "import pandas as pd\n",
        "import torch.optim as optim\n",
        "from torch.utils import data"
      ],
      "metadata": {
        "id": "uX0zMPPPfK2g"
      },
      "execution_count": null,
      "outputs": []
    },
    {
      "cell_type": "code",
      "source": [
        "df = pd.read_csv('https://archive.ics.uci.edu/ml/machine-learning-databases/'\n",
        "+'iris/iris.data', header=None)\n",
        "\n",
        "df = df.sample(frac=1, random_state=0) #shuffle\n",
        "\n",
        "df = df[df[4].isin(['Iris-virginica', 'Iris-versicolor'])] #filter"
      ],
      "metadata": {
        "id": "OYjv9rAEe-0L"
      },
      "execution_count": null,
      "outputs": []
    },
    {
      "cell_type": "code",
      "source": [
        "#add label indices column\n",
        "mapping = {k: v for v, k in enumerate(df[4].unique())}\n",
        "df[5] = (2 * df[4].map(mapping)) - 1 #labels in {−1 ,1}"
      ],
      "metadata": {
        "id": "wR3q0RTvgS4I"
      },
      "execution_count": null,
      "outputs": []
    },
    {
      "cell_type": "code",
      "source": [
        "#normalise data\n",
        "alldata = torch.tensor(df.iloc[:,[0, 1, 2, 3]].values, dtype=torch.float)\n",
        "alldata = (alldata - alldata.mean(dim=0)) / alldata.var(dim=0)"
      ],
      "metadata": {
        "id": "rjvXLcU3hdsc"
      },
      "execution_count": null,
      "outputs": []
    },
    {
      "cell_type": "code",
      "source": [
        "#create datasets\n",
        "targets_tr = torch.tensor(df.iloc[:75, 5].values, dtype=torch.long)\n",
        "targets_va = torch.tensor(df.iloc[75:, 5].values, dtype=torch.long)\n",
        "data_tr = alldata[:75]\n",
        "data_va = alldata[75:]"
      ],
      "metadata": {
        "id": "WBzzc061jD_A"
      },
      "execution_count": null,
      "outputs": []
    },
    {
      "cell_type": "code",
      "source": [
        "dataset = data.TensorDataset(data_tr, targets_tr)\n",
        "dataloader = data.DataLoader(dataset, batch_size=25)"
      ],
      "metadata": {
        "id": "rMtWh6KVjw15"
      },
      "execution_count": null,
      "outputs": []
    },
    {
      "cell_type": "code",
      "source": [
        "def hinge_loss(y_pred, y_true):\n",
        "  n = y_pred.shape[0]\n",
        "  zeros = torch.zeros(n)\n",
        "  return torch.sum(torch.maximum(zeros, 1 - y_pred*y_true)) / n"
      ],
      "metadata": {
        "id": "DGI-_vITke4Z"
      },
      "execution_count": null,
      "outputs": []
    },
    {
      "cell_type": "code",
      "source": [
        "def svm(x, w, b):\n",
        "  h = (w*x).sum(1) + b\n",
        "  return h"
      ],
      "metadata": {
        "id": "PQ40GdSSkgkU"
      },
      "execution_count": null,
      "outputs": []
    },
    {
      "cell_type": "code",
      "source": [
        "def accuracy(y_pred, target):\n",
        "  acc = torch.sum(torch.sign(y_pred) == torch.sign(target))\n",
        "  return acc/y_pred.size(dim=0)"
      ],
      "metadata": {
        "id": "d4WpyV3KkyLa"
      },
      "execution_count": null,
      "outputs": []
    },
    {
      "cell_type": "markdown",
      "source": [
        "# SGD"
      ],
      "metadata": {
        "id": "x21i89PpkJYb"
      }
    },
    {
      "cell_type": "code",
      "source": [
        "sgd_acc = torch.zeros(20)\n",
        "for j in range(20):\n",
        "  w = torch.randn(1, 4, requires_grad=True)\n",
        "  b = torch.randn(1, requires_grad=True)\n",
        "\n",
        "  opt = optim.SGD([w,b], lr=0.01, weight_decay=0.0001)\n",
        "\n",
        "  for epoch in range(100):\n",
        "    for features, labels in dataloader:\n",
        "      opt.zero_grad()\n",
        "      output = hinge_loss(svm(features, w, b), labels)\n",
        "      output.backward()\n",
        "      opt.step()\n",
        "\n",
        "  y_pred = svm(data_va, w, b)\n",
        "  print(\"Validation accuracy: \", accuracy(y_pred, targets_va).item())\n",
        "  sgd_acc[j] = accuracy(y_pred, targets_va).item()\n",
        "\n",
        "print(sgd_acc.sum(0) / 20)"
      ],
      "metadata": {
        "colab": {
          "base_uri": "https://localhost:8080/"
        },
        "id": "I8NJfqRKkEq1",
        "outputId": "a2182ada-4774-4ef0-bf8d-236a564537a9"
      },
      "execution_count": null,
      "outputs": [
        {
          "output_type": "stream",
          "name": "stdout",
          "text": [
            "Validation accuracy:  0.9200000166893005\n",
            "Validation accuracy:  0.8399999737739563\n",
            "Validation accuracy:  0.8799999952316284\n",
            "Validation accuracy:  0.8799999952316284\n",
            "Validation accuracy:  0.9200000166893005\n",
            "Validation accuracy:  0.8799999952316284\n",
            "Validation accuracy:  0.9599999785423279\n",
            "Validation accuracy:  0.9200000166893005\n",
            "Validation accuracy:  1.0\n",
            "Validation accuracy:  0.9599999785423279\n",
            "Validation accuracy:  0.8399999737739563\n",
            "Validation accuracy:  0.8799999952316284\n",
            "Validation accuracy:  0.9599999785423279\n",
            "Validation accuracy:  0.9200000166893005\n",
            "Validation accuracy:  0.8799999952316284\n",
            "Validation accuracy:  0.9200000166893005\n",
            "Validation accuracy:  0.8799999952316284\n",
            "Validation accuracy:  0.9599999785423279\n",
            "Validation accuracy:  0.9200000166893005\n",
            "Validation accuracy:  0.9599999785423279\n",
            "tensor(0.9140)\n"
          ]
        }
      ]
    },
    {
      "cell_type": "markdown",
      "source": [
        "# Adam"
      ],
      "metadata": {
        "id": "ejz_lmmxrC9o"
      }
    },
    {
      "cell_type": "code",
      "source": [
        "adam_acc = torch.zeros(20)\n",
        "for j in range(20):\n",
        "  w = torch.randn(1, 4, requires_grad=True)\n",
        "  b = torch.randn(1, requires_grad=True)\n",
        "\n",
        "  opt = optim.Adam([w,b], lr=0.01, weight_decay=0.0001)\n",
        "\n",
        "  for epoch in range(100):\n",
        "    for features, labels in dataloader:\n",
        "      opt.zero_grad()\n",
        "      output = hinge_loss(svm(features, w, b), labels)\n",
        "      output.backward()\n",
        "      opt.step()\n",
        "\n",
        "  y_pred = svm(data_va, w, b)\n",
        "  print(\"Validation accuracy: \", accuracy(y_pred, targets_va).item())\n",
        "  adam_acc[j] = accuracy(y_pred, targets_va).item()\n",
        "\n",
        "print(adam_acc.sum(0) / 20)"
      ],
      "metadata": {
        "colab": {
          "base_uri": "https://localhost:8080/"
        },
        "id": "yQdPLrrZrJ7O",
        "outputId": "f264e1b4-7db4-4ad5-acc3-abe654b895bb"
      },
      "execution_count": null,
      "outputs": [
        {
          "output_type": "stream",
          "name": "stdout",
          "text": [
            "Validation accuracy:  0.8799999952316284\n",
            "Validation accuracy:  0.8799999952316284\n",
            "Validation accuracy:  0.8799999952316284\n",
            "Validation accuracy:  0.9599999785423279\n",
            "Validation accuracy:  0.8799999952316284\n",
            "Validation accuracy:  0.8799999952316284\n",
            "Validation accuracy:  0.8799999952316284\n",
            "Validation accuracy:  0.8799999952316284\n",
            "Validation accuracy:  0.9200000166893005\n",
            "Validation accuracy:  0.9200000166893005\n",
            "Validation accuracy:  0.8799999952316284\n",
            "Validation accuracy:  0.9200000166893005\n",
            "Validation accuracy:  0.8799999952316284\n",
            "Validation accuracy:  0.8799999952316284\n",
            "Validation accuracy:  0.8799999952316284\n",
            "Validation accuracy:  0.8799999952316284\n",
            "Validation accuracy:  0.8799999952316284\n",
            "Validation accuracy:  0.8799999952316284\n",
            "Validation accuracy:  0.8799999952316284\n",
            "Validation accuracy:  1.0\n",
            "tensor(0.8960)\n"
          ]
        }
      ]
    },
    {
      "cell_type": "markdown",
      "source": [
        "We can use the same set of weights each time we train the network; for example, you could use the values of 0.0 for all weights.\n",
        "\n",
        "In this case, the equations of the learning algorithm would fail to make any changes to the network weights, and the model will be stuck. It is important to note that the bias weight in each neuron is set to zero by default, not a small random value.\n",
        "\n",
        "Specifically, nodes that are side-by-side in a hidden layer connected to the same inputs must have different weights for the learning algorithm to update the weights.\n",
        "\n",
        "This is often referred to as the need to break symmetry during training.\n",
        "\n",
        "Perhaps the only property known with complete certainty is that the initial parameters need to “break symmetry” between different units. If two hidden units with the same activation function are connected to the same inputs, then these units must have different initial parameters. If they have the same initial parameters, then a deterministic learning algorithm applied to a deterministic cost and model will constantly update both of these units in the same way."
      ],
      "metadata": {
        "id": "WZZM2NJDtDXE"
      }
    }
  ]
}