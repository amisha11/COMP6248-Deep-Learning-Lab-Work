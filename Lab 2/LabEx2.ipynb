{
  "nbformat": 4,
  "nbformat_minor": 0,
  "metadata": {
    "colab": {
      "name": "LabEx2.ipynb",
      "provenance": [],
      "collapsed_sections": []
    },
    "kernelspec": {
      "name": "python3",
      "display_name": "Python 3"
    },
    "language_info": {
      "name": "python"
    }
  },
  "cells": [
    {
      "cell_type": "code",
      "execution_count": null,
      "metadata": {
        "id": "mZE07qcclO7q"
      },
      "outputs": [],
      "source": [
        "import torch\n",
        "import numpy as np\n",
        "import pandas as pd\n"
      ]
    },
    {
      "cell_type": "code",
      "source": [
        "def truncated_svd(A: torch.Tensor, truncate = 1):\n",
        "  U, S, V = torch.linalg.svd(A, full_matrices= False)\n",
        "  S[truncate*(-1):] = 0\n",
        "  return U, torch.diag(S), V"
      ],
      "metadata": {
        "id": "QS-9thc7vdFu"
      },
      "execution_count": null,
      "outputs": []
    },
    {
      "cell_type": "code",
      "source": [
        "def cost_function(A, U, V):\n",
        "  return torch.nn.functional.mse_loss(U@V, A, size_average=None, reduce=None, reduction='sum')\n",
        "\n",
        "def gd_factorise_ad(A: torch.Tensor, rank: int, epochs = 1000, lr = 0.01):\n",
        "  [m, n] = A.shape\n",
        "  U = torch.rand((m, rank), dtype=float).clone().detach().requires_grad_(True)\n",
        "  V = torch.rand((rank, n), dtype=float).clone().detach().requires_grad_(True)\n",
        "\n",
        "  for epoch in range(epochs): \n",
        "    U.grad = None\n",
        "    V.grad = None\n",
        "    J = cost_function(A, U, V)\n",
        "    J.backward()\n",
        "    U.data = U - lr * U.grad\n",
        "    V.data = V - lr * V.grad\n",
        "\n",
        "  return U, V"
      ],
      "metadata": {
        "id": "4nMDS_uomKMR"
      },
      "execution_count": null,
      "outputs": []
    },
    {
      "cell_type": "code",
      "source": [
        "df = pd.read_csv('https://archive.ics.uci.edu/ml/machine-learning-databases/'\n",
        "+'iris/iris.data', header=None )\n",
        "data = torch.tensor(df.iloc[:,[0, 1, 2, 3]].values)\n",
        "data = data - data.mean(dim=0)\n",
        "\n",
        "U, V = gd_factorise_ad(data, 2)\n",
        "reconError = torch.nn.functional.mse_loss(U@V, data, size_average=None, reduce=None, reduction='sum')\n",
        "print(reconError.item())"
      ],
      "metadata": {
        "colab": {
          "base_uri": "https://localhost:8080/"
        },
        "id": "DVePPECmoHof",
        "outputId": "b1e59390-51aa-48c7-8de9-cb3204254edd"
      },
      "execution_count": null,
      "outputs": [
        {
          "output_type": "stream",
          "name": "stdout",
          "text": [
            "15.228845940286346\n"
          ]
        }
      ]
    },
    {
      "cell_type": "code",
      "source": [
        "df.head()"
      ],
      "metadata": {
        "colab": {
          "base_uri": "https://localhost:8080/",
          "height": 206
        },
        "id": "lf0z3RNjgwmg",
        "outputId": "894ee1e0-c6f0-4f74-8434-db967a43a72d"
      },
      "execution_count": null,
      "outputs": [
        {
          "output_type": "execute_result",
          "data": {
            "text/plain": [
              "     0    1    2    3            4\n",
              "0  5.1  3.5  1.4  0.2  Iris-setosa\n",
              "1  4.9  3.0  1.4  0.2  Iris-setosa\n",
              "2  4.7  3.2  1.3  0.2  Iris-setosa\n",
              "3  4.6  3.1  1.5  0.2  Iris-setosa\n",
              "4  5.0  3.6  1.4  0.2  Iris-setosa"
            ],
            "text/html": [
              "\n",
              "  <div id=\"df-6af57701-9196-430a-8e11-8dbe25abc584\">\n",
              "    <div class=\"colab-df-container\">\n",
              "      <div>\n",
              "<style scoped>\n",
              "    .dataframe tbody tr th:only-of-type {\n",
              "        vertical-align: middle;\n",
              "    }\n",
              "\n",
              "    .dataframe tbody tr th {\n",
              "        vertical-align: top;\n",
              "    }\n",
              "\n",
              "    .dataframe thead th {\n",
              "        text-align: right;\n",
              "    }\n",
              "</style>\n",
              "<table border=\"1\" class=\"dataframe\">\n",
              "  <thead>\n",
              "    <tr style=\"text-align: right;\">\n",
              "      <th></th>\n",
              "      <th>0</th>\n",
              "      <th>1</th>\n",
              "      <th>2</th>\n",
              "      <th>3</th>\n",
              "      <th>4</th>\n",
              "    </tr>\n",
              "  </thead>\n",
              "  <tbody>\n",
              "    <tr>\n",
              "      <th>0</th>\n",
              "      <td>5.1</td>\n",
              "      <td>3.5</td>\n",
              "      <td>1.4</td>\n",
              "      <td>0.2</td>\n",
              "      <td>Iris-setosa</td>\n",
              "    </tr>\n",
              "    <tr>\n",
              "      <th>1</th>\n",
              "      <td>4.9</td>\n",
              "      <td>3.0</td>\n",
              "      <td>1.4</td>\n",
              "      <td>0.2</td>\n",
              "      <td>Iris-setosa</td>\n",
              "    </tr>\n",
              "    <tr>\n",
              "      <th>2</th>\n",
              "      <td>4.7</td>\n",
              "      <td>3.2</td>\n",
              "      <td>1.3</td>\n",
              "      <td>0.2</td>\n",
              "      <td>Iris-setosa</td>\n",
              "    </tr>\n",
              "    <tr>\n",
              "      <th>3</th>\n",
              "      <td>4.6</td>\n",
              "      <td>3.1</td>\n",
              "      <td>1.5</td>\n",
              "      <td>0.2</td>\n",
              "      <td>Iris-setosa</td>\n",
              "    </tr>\n",
              "    <tr>\n",
              "      <th>4</th>\n",
              "      <td>5.0</td>\n",
              "      <td>3.6</td>\n",
              "      <td>1.4</td>\n",
              "      <td>0.2</td>\n",
              "      <td>Iris-setosa</td>\n",
              "    </tr>\n",
              "  </tbody>\n",
              "</table>\n",
              "</div>\n",
              "      <button class=\"colab-df-convert\" onclick=\"convertToInteractive('df-6af57701-9196-430a-8e11-8dbe25abc584')\"\n",
              "              title=\"Convert this dataframe to an interactive table.\"\n",
              "              style=\"display:none;\">\n",
              "        \n",
              "  <svg xmlns=\"http://www.w3.org/2000/svg\" height=\"24px\"viewBox=\"0 0 24 24\"\n",
              "       width=\"24px\">\n",
              "    <path d=\"M0 0h24v24H0V0z\" fill=\"none\"/>\n",
              "    <path d=\"M18.56 5.44l.94 2.06.94-2.06 2.06-.94-2.06-.94-.94-2.06-.94 2.06-2.06.94zm-11 1L8.5 8.5l.94-2.06 2.06-.94-2.06-.94L8.5 2.5l-.94 2.06-2.06.94zm10 10l.94 2.06.94-2.06 2.06-.94-2.06-.94-.94-2.06-.94 2.06-2.06.94z\"/><path d=\"M17.41 7.96l-1.37-1.37c-.4-.4-.92-.59-1.43-.59-.52 0-1.04.2-1.43.59L10.3 9.45l-7.72 7.72c-.78.78-.78 2.05 0 2.83L4 21.41c.39.39.9.59 1.41.59.51 0 1.02-.2 1.41-.59l7.78-7.78 2.81-2.81c.8-.78.8-2.07 0-2.86zM5.41 20L4 18.59l7.72-7.72 1.47 1.35L5.41 20z\"/>\n",
              "  </svg>\n",
              "      </button>\n",
              "      \n",
              "  <style>\n",
              "    .colab-df-container {\n",
              "      display:flex;\n",
              "      flex-wrap:wrap;\n",
              "      gap: 12px;\n",
              "    }\n",
              "\n",
              "    .colab-df-convert {\n",
              "      background-color: #E8F0FE;\n",
              "      border: none;\n",
              "      border-radius: 50%;\n",
              "      cursor: pointer;\n",
              "      display: none;\n",
              "      fill: #1967D2;\n",
              "      height: 32px;\n",
              "      padding: 0 0 0 0;\n",
              "      width: 32px;\n",
              "    }\n",
              "\n",
              "    .colab-df-convert:hover {\n",
              "      background-color: #E2EBFA;\n",
              "      box-shadow: 0px 1px 2px rgba(60, 64, 67, 0.3), 0px 1px 3px 1px rgba(60, 64, 67, 0.15);\n",
              "      fill: #174EA6;\n",
              "    }\n",
              "\n",
              "    [theme=dark] .colab-df-convert {\n",
              "      background-color: #3B4455;\n",
              "      fill: #D2E3FC;\n",
              "    }\n",
              "\n",
              "    [theme=dark] .colab-df-convert:hover {\n",
              "      background-color: #434B5C;\n",
              "      box-shadow: 0px 1px 3px 1px rgba(0, 0, 0, 0.15);\n",
              "      filter: drop-shadow(0px 1px 2px rgba(0, 0, 0, 0.3));\n",
              "      fill: #FFFFFF;\n",
              "    }\n",
              "  </style>\n",
              "\n",
              "      <script>\n",
              "        const buttonEl =\n",
              "          document.querySelector('#df-6af57701-9196-430a-8e11-8dbe25abc584 button.colab-df-convert');\n",
              "        buttonEl.style.display =\n",
              "          google.colab.kernel.accessAllowed ? 'block' : 'none';\n",
              "\n",
              "        async function convertToInteractive(key) {\n",
              "          const element = document.querySelector('#df-6af57701-9196-430a-8e11-8dbe25abc584');\n",
              "          const dataTable =\n",
              "            await google.colab.kernel.invokeFunction('convertToInteractive',\n",
              "                                                     [key], {});\n",
              "          if (!dataTable) return;\n",
              "\n",
              "          const docLinkHtml = 'Like what you see? Visit the ' +\n",
              "            '<a target=\"_blank\" href=https://colab.research.google.com/notebooks/data_table.ipynb>data table notebook</a>'\n",
              "            + ' to learn more about interactive tables.';\n",
              "          element.innerHTML = '';\n",
              "          dataTable['output_type'] = 'display_data';\n",
              "          await google.colab.output.renderOutput(dataTable, element);\n",
              "          const docLink = document.createElement('div');\n",
              "          docLink.innerHTML = docLinkHtml;\n",
              "          element.appendChild(docLink);\n",
              "        }\n",
              "      </script>\n",
              "    </div>\n",
              "  </div>\n",
              "  "
            ]
          },
          "metadata": {},
          "execution_count": 5
        }
      ]
    },
    {
      "cell_type": "code",
      "source": [
        "U_1, S_1, V_1 = truncated_svd(data, 2)\n",
        "truncReconError = torch.nn.functional.mse_loss(U_1@S_1@V_1, data, size_average=None, reduce=None, reduction='sum')\n",
        "print(truncReconError.item())"
      ],
      "metadata": {
        "colab": {
          "base_uri": "https://localhost:8080/"
        },
        "id": "Tdblk4VYviV0",
        "outputId": "691a081d-259f-4e5d-f221-1ba431ce4472"
      },
      "execution_count": null,
      "outputs": [
        {
          "output_type": "stream",
          "name": "stdout",
          "text": [
            "15.228833347803324\n"
          ]
        }
      ]
    },
    {
      "cell_type": "code",
      "source": [
        "def pca_dim_reduction(X, M):\n",
        "  #assert X.ndims <= M, \"M has to be less than dimensionality of X!\"\n",
        "  \n",
        "  # * 1. Center Data\n",
        "  #X_mean = np.mean(X)\n",
        "  #X_centered = X - X_mean\n",
        "  \n",
        "  # * 2. Compute Covariance Matrix\n",
        "  X_cov = np.cov(X.T)\n",
        "  \n",
        "  # * 3.1. Get Eigen Values and Vectors\n",
        "  eigen_values, eigen_vectors = np.linalg.eig(X_cov)\n",
        "  # * 3.2. Get the top M eigen values indices\n",
        "  top_M_idx = np.argsort(eigen_values)[::-1][:M]\n",
        "\n",
        "  # * 4.1 Get top M Eigen Vectors\n",
        "  top_M_eigen_vectors = eigen_vectors[:,top_M_idx]\n",
        "  \n",
        "  # * 4.2 return projections in reduced space\n",
        "  return np.dot(X, top_M_eigen_vectors) "
      ],
      "metadata": {
        "id": "w1s-Zv1u2em5"
      },
      "execution_count": null,
      "outputs": []
    },
    {
      "cell_type": "code",
      "source": [
        "projected_data = pca_dim_reduction(data, 2)"
      ],
      "metadata": {
        "id": "a2s7hC-G2wLB"
      },
      "execution_count": null,
      "outputs": []
    },
    {
      "cell_type": "code",
      "source": [
        "import matplotlib.pyplot as plt\n",
        "import matplotlib\n",
        "\n",
        "U_svd, S_svd, _ = torch.linalg.svd(data, full_matrices=False)\n",
        "X_svd = U_svd@torch.diag(S_svd)\n",
        "\n",
        "colors = {'Iris-setosa':'red', 'Iris-versicolor':'green', 'Iris-virginica':'blue'}\n",
        "plt.scatter(X_svd[:,0], X_svd[:,1], c=df[4].map(colors))\n",
        "#plt.title(\"Orthogonal linear transform data projection\")\n",
        "plt.xticks(range(-4,5))\n",
        "plt.yticks(range(-2,2))\n",
        "plt.show()"
      ],
      "metadata": {
        "colab": {
          "base_uri": "https://localhost:8080/",
          "height": 265
        },
        "id": "9kVlH0AQ3ZtP",
        "outputId": "c4ebb3e0-9d94-4933-9969-b6383162c1fe"
      },
      "execution_count": null,
      "outputs": [
        {
          "output_type": "display_data",
          "data": {
            "text/plain": [
              "<Figure size 432x288 with 1 Axes>"
            ],
            "image/png": "[encoded data removed]"
          },
          "metadata": {
            "needs_background": "light"
          }
        }
      ]
    },
    {
      "cell_type": "code",
      "source": [
        "reconstruction_approx_U = U.detach().numpy()\n",
        "plt.scatter(reconstruction_approx_U[:,0], reconstruction_approx_U[:,1], c=df[4].map(colors))\n",
        "#plt.title(\"Projection of data approximated through minimising reconstruction error\")\n",
        "plt.xticks(range(-4,5))\n",
        "plt.yticks(range(-2,2))\n",
        "plt.show()"
      ],
      "metadata": {
        "colab": {
          "base_uri": "https://localhost:8080/",
          "height": 265
        },
        "id": "NA0J_Cjl3ozl",
        "outputId": "8b582e06-a63b-47ea-d90c-98e616bf08ba"
      },
      "execution_count": null,
      "outputs": [
        {
          "output_type": "display_data",
          "data": {
            "text/plain": [
              "<Figure size 432x288 with 1 Axes>"
            ],
            "image/png": "[encoded data removed]"
          },
          "metadata": {
            "needs_background": "light"
          }
        }
      ]
    },
    {
      "cell_type": "markdown",
      "source": [
        "# **A simple MLP**"
      ],
      "metadata": {
        "id": "YZiPf-RC75Og"
      }
    },
    {
      "cell_type": "code",
      "source": [
        "from sklearn.metrics import accuracy_score\n",
        "\n",
        "df = pd.read_csv('https://archive.ics.uci.edu/ml/machine-learning-databases/'\n",
        "+'iris/iris.data', header=None )\n",
        "\n",
        "df = df.sample(frac=1)\n",
        "\n",
        "mapping = {k : v for v , k in enumerate(df[4].unique()) }\n",
        "df[5] = df[4].map(mapping)"
      ],
      "metadata": {
        "id": "lekET8ywQ_Zl"
      },
      "execution_count": null,
      "outputs": []
    },
    {
      "cell_type": "code",
      "source": [
        "alldata = torch.tensor(df.iloc[:,[ 0 , 1 , 2 , 3 ]].values, dtype=torch.float)\n",
        "alldata = (alldata - alldata.mean(dim=0)) / alldata.var(dim=0)\n"
      ],
      "metadata": {
        "id": "hxKGt_cT8oXC"
      },
      "execution_count": null,
      "outputs": []
    },
    {
      "cell_type": "code",
      "source": [
        "targets_tr = torch.tensor(df.iloc[: 100, 5].values, dtype=torch.long)\n",
        "targets_va = torch.tensor(df.iloc[100:, 5].values, dtype=torch.long)\n",
        "data_tr = alldata[:100]\n",
        "data_va = alldata[100: ]"
      ],
      "metadata": {
        "id": "-uMsv0IB-fgn"
      },
      "execution_count": null,
      "outputs": []
    },
    {
      "cell_type": "code",
      "source": [
        "def loss_function(logits, targets):\n",
        "  return torch.nn.functional.cross_entropy(logits, targets)\n",
        "\n",
        "def mlp (data, targets, lr = 0.01, epochs = 100):\n",
        "  W1 = torch.rand((4, 12), dtype=torch.float).clone().detach().requires_grad_(True)\n",
        "  W2 = torch.rand((12, 3), dtype=torch.float).clone().detach().requires_grad_(True)\n",
        "  b1 = torch.tensor(0, requires_grad=True, dtype=torch.float)\n",
        "  b2 = torch.tensor(0, requires_grad=True, dtype=torch.float)\n",
        "\n",
        "  for epoch in range(epochs):\n",
        "    #optimizer.zero_grad(set_to_none=True)\n",
        "    W1.grad = None\n",
        "    W2.grad = None\n",
        "    b1.grad = None\n",
        "    b2.grad = None\n",
        "    logits = torch.relu(data @ W1 + b1) @ W2 + b2\n",
        "    J = loss_function(logits, targets)\n",
        "    J.backward()\n",
        "    W1.data = W1 - lr * W1.grad\n",
        "    W2.data = W2 - lr * W2.grad\n",
        "    b1.data = b1 - lr * b1.grad\n",
        "    b2.data = b2 - lr * b2.grad\n",
        "\n",
        "  return W1, W2, b1, b2"
      ],
      "metadata": {
        "id": "wx0YG0gf_g07"
      },
      "execution_count": null,
      "outputs": []
    },
    {
      "cell_type": "code",
      "source": [
        "def model_train (data, targets):\n",
        "  return mlp(data, targets)\n",
        "\n",
        "def model_predict(data, W1, W2, b1, b2):\n",
        "  logits = torch.relu(data @ W1 + b1) @ W2 + b2\n",
        "  return torch.argmax(logits, dim=1)"
      ],
      "metadata": {
        "id": "JANhS7xMAd7Z"
      },
      "execution_count": null,
      "outputs": []
    },
    {
      "cell_type": "code",
      "source": [
        "W1, W2, b1, b2 = model_train(data_tr, targets_tr)\n",
        "\n",
        "y_pred_tr = model_predict(data_tr, W1, W2, b1, b2)\n",
        "y_pred = model_predict(data_va, W1, W2, b1, b2)\n",
        "\n",
        "print(\"Training acc = \" + str(accuracy_score(y_pred_tr, targets_tr).item()))\n",
        "print(\"Validation acc = \" + str(accuracy_score(y_pred, targets_va).item()))"
      ],
      "metadata": {
        "colab": {
          "base_uri": "https://localhost:8080/"
        },
        "id": "Bq8l39ZdJWt8",
        "outputId": "530e3ea5-ae75-4561-c281-69ed30f78465"
      },
      "execution_count": null,
      "outputs": [
        {
          "output_type": "stream",
          "name": "stdout",
          "text": [
            "Training acc = 0.59\n",
            "Validation acc = 0.6\n"
          ]
        }
      ]
    }
  ]
}