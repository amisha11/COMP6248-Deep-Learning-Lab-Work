{
  "cells": [
    {
      "cell_type": "markdown",
      "metadata": {
        "deletable": false,
        "editable": false,
        "nbgrader": {
          "cell_type": "markdown",
          "checksum": "97d3c80864403311b3342877098cef5b",
          "grade": false,
          "grade_id": "cell-f38ec230aeb63f9d",
          "locked": true,
          "schema_version": 3,
          "solution": false
        },
        "id": "UU7ha8PsCbYy"
      },
      "source": [
        "# Part 3: Reverse Mode Automatic Differentiation with PyTorch"
      ]
    },
    {
      "cell_type": "code",
      "execution_count": null,
      "metadata": {
        "deletable": false,
        "editable": false,
        "nbgrader": {
          "cell_type": "code",
          "checksum": "529f94d77025a0b9b2a4aa44ed0b1f1b",
          "grade": false,
          "grade_id": "cell-2afa7eb0f5479ff9",
          "locked": true,
          "schema_version": 3,
          "solution": false
        },
        "id": "8r5a3p6VCbY3"
      },
      "outputs": [],
      "source": [
        "# Execute this code block to install dependencies when running on colab\n",
        "try:\n",
        "    import torch\n",
        "except:\n",
        "    from os.path import exists\n",
        "    from wheel.pep425tags import get_abbr_impl, get_impl_ver, get_abi_tag\n",
        "    platform = '{}{}-{}'.format(get_abbr_impl(), get_impl_ver(), get_abi_tag())\n",
        "    cuda_output = !ldconfig -p|grep cudart.so|sed -e 's/.*\\.\\([0-9]*\\)\\.\\([0-9]*\\)$/cu\\1\\2/'\n",
        "    accelerator = cuda_output[0] if exists('/dev/nvidia0') else 'cpu'\n",
        "\n",
        "    !pip install -q http://download.pytorch.org/whl/{accelerator}/torch-1.0.0-{platform}-linux_x86_64.whl torchvision"
      ]
    },
    {
      "cell_type": "markdown",
      "metadata": {
        "deletable": false,
        "editable": false,
        "nbgrader": {
          "cell_type": "markdown",
          "checksum": "8c13a801a6e49369b91bda4e906cb1cf",
          "grade": false,
          "grade_id": "cell-3d5d3b3ff9e2ac9f",
          "locked": true,
          "schema_version": 3,
          "solution": false
        },
        "id": "n7LVYPMdCbY5"
      },
      "source": [
        "PyTorch implements Dynamic Reverse Mode Automatic Differentiation, much like we did in the previous exercise. There is one really major difference in what PyTorch provides over our simple example: it works directly with matrices (`Tensor`s) rather than with scalars (although obviously a matrix can represent a scalar).\n",
        "\n",
        "In this tutorial, we'll explore PyTorch's AD implementation. Note that we're using the API of PyTorch 0.4 or later which simplifies use of AD (previous versions required wrapping all `Tensor`s that you wanted to compute gradients of in `Variable` objects; PyTorch 0.4 removes the need to do this and allows `Tensor`s themselves to track gradients).\n",
        "\n",
        "We'll start with the simple example we tried earlier in the code block below:\n",
        "\n",
        "__Task:__ Run the following code and verify the solution is correct"
      ]
    },
    {
      "cell_type": "code",
      "execution_count": null,
      "metadata": {
        "deletable": false,
        "editable": false,
        "nbgrader": {
          "cell_type": "code",
          "checksum": "0d5aa67ad79542449beb79e8b65a50bc",
          "grade": false,
          "grade_id": "cell-a7740c83bfcaa983",
          "locked": true,
          "schema_version": 3,
          "solution": false
        },
        "id": "zQqkc9JHCbY6",
        "colab": {
          "base_uri": "https://localhost:8080/"
        },
        "outputId": "34b54703-d176-470b-b3c8-9dd0c9689591"
      },
      "outputs": [
        {
          "output_type": "stream",
          "name": "stdout",
          "text": [
            "z = 0.7020779848098755\n",
            "dz/dx = 1.662145972251892\n",
            "dz/dy = 0.14955268800258636\n",
            "dk/dx = 3.6621460914611816\n",
            "dk/dy = 0.39955270290374756\n"
          ]
        }
      ],
      "source": [
        "import torch\n",
        "\n",
        "# set up the problem\n",
        "x = torch.tensor(0.25, requires_grad=True)\n",
        "y = torch.tensor(2.0, requires_grad=True)\n",
        "z = x * y + torch.sin(x)\n",
        "k = x * y\n",
        "\n",
        "i = torch.tensor(0.0, requires_grad=True)\n",
        "for i in range(0, 4):\n",
        "    if i%2 == 0:\n",
        "      z = torch.cos(z + x)\n",
        "\n",
        "# item() to get python scalar\n",
        "print(\"z = \" + str(z.item()))\n",
        "\n",
        "z.backward() # this goes through the computation graph and accumulates the gradients in the cached .grad attributes\n",
        "print(\"dz/dx = \" + str(x.grad.item()))\n",
        "print(\"dz/dy = \" + str(y.grad.item()))\n",
        "\n",
        "k.backward() # this goes through the computation graph and accumulates the gradients in the cached .grad attributes\n",
        "print(\"dk/dx = \" + str(x.grad.item()))\n",
        "print(\"dk/dy = \" + str(y.grad.item()))"
      ]
    },
    {
      "cell_type": "markdown",
      "metadata": {
        "deletable": false,
        "editable": false,
        "nbgrader": {
          "cell_type": "markdown",
          "checksum": "aac08494fe446009596079eba3016ddf",
          "grade": false,
          "grade_id": "cell-cb3a2586467dd0ad",
          "locked": true,
          "schema_version": 3,
          "solution": false
        },
        "id": "p1-grk-NCbY6"
      },
      "source": [
        "As with our own AD implementation, PyTorch lets us differentiate through an algorithm.\n",
        "\n",
        "__Task__: Use the block below to compute the gradient $\\partial z/\\partial x$ of the following pseudocode algorithm and store the result in the `dzdx` variable:\n",
        "\n",
        "    x = 0.5\n",
        "    z = 1\n",
        "    i = 0\n",
        "    while i<2:\n",
        "        z = (z + i) * x * x\n",
        "        i = i + 1"
      ]
    },
    {
      "cell_type": "code",
      "execution_count": null,
      "metadata": {
        "deletable": false,
        "nbgrader": {
          "cell_type": "code",
          "checksum": "b689f4aaf1507a7f532c6059896ad02e",
          "grade": false,
          "grade_id": "cell-62e1f0838236eddf",
          "locked": false,
          "schema_version": 3,
          "solution": true
        },
        "id": "FBS1UGhvCbY7",
        "colab": {
          "base_uri": "https://localhost:8080/"
        },
        "outputId": "12f2c34c-4442-44a9-8ca6-a952b2b4f5ee"
      },
      "outputs": [
        {
          "output_type": "stream",
          "name": "stdout",
          "text": [
            "dz/dx = 0.0819406509399414\n"
          ]
        }
      ],
      "source": [
        "\n",
        "x = torch.tensor(0.25, requires_grad=True)\n",
        "z = torch.tensor(2.0, requires_grad=True)\n",
        "i = torch.tensor(0.0, requires_grad=True)\n",
        "for i in range(0, 4):\n",
        "    if i%2 == 0:\n",
        "      z = torch.cos(z + x)\n",
        "\n",
        "z.backward()\n",
        "print(\"dz/dx = \" + str(x.grad.item()))\n",
        "dzdx = x.grad.item()"
      ]
    },
    {
      "cell_type": "code",
      "execution_count": null,
      "metadata": {
        "deletable": false,
        "editable": false,
        "nbgrader": {
          "cell_type": "code",
          "checksum": "bc79555ad292cd1026a9db951f9f8e47",
          "grade": true,
          "grade_id": "cell-cbe71552690f710b",
          "locked": true,
          "points": 4,
          "schema_version": 3,
          "solution": false
        },
        "id": "zDG6ekC-CbY7"
      },
      "outputs": [],
      "source": [
        "assert dzdx\n"
      ]
    },
    {
      "cell_type": "markdown",
      "metadata": {
        "deletable": false,
        "editable": false,
        "nbgrader": {
          "cell_type": "markdown",
          "checksum": "d999d1c4c84b066fb15be1972dcaaad8",
          "grade": false,
          "grade_id": "cell-824ecf46b4875b5f",
          "locked": true,
          "schema_version": 3,
          "solution": false
        },
        "id": "9ORbMASjCbY8"
      },
      "source": [
        "## PyTorch limitations: in-place operations and aliasing\n",
        "\n",
        "PyTorch will throw an error at runtime if you try to differentiate through an in-place operation on a tensor. \n",
        "\n",
        "__Task__: Run the following code to see this in action."
      ]
    },
    {
      "cell_type": "code",
      "execution_count": null,
      "metadata": {
        "deletable": false,
        "editable": false,
        "nbgrader": {
          "cell_type": "code",
          "checksum": "eb07b791962399cd736ede26b99309e8",
          "grade": false,
          "grade_id": "cell-813341e9825354bf",
          "locked": true,
          "schema_version": 3,
          "solution": false
        },
        "id": "kFzUYn-tCbY9",
        "colab": {
          "base_uri": "https://localhost:8080/",
          "height": 398
        },
        "outputId": "a598dd84-8fcc-4a2a-962d-dbf1ee9b0261"
      },
      "outputs": [
        {
          "output_type": "error",
          "ename": "RuntimeError",
          "evalue": "ignored",
          "traceback": [
            "\u001b[0;31m---------------------------------------------------------------------------\u001b[0m",
            "\u001b[0;31mRuntimeError\u001b[0m                              Traceback (most recent call last)",
            "\u001b[0;32m<ipython-input-10-637e22e4c834>\u001b[0m in \u001b[0;36m<module>\u001b[0;34m()\u001b[0m\n\u001b[1;32m      2\u001b[0m \u001b[0my\u001b[0m \u001b[0;34m=\u001b[0m \u001b[0mx\u001b[0m\u001b[0;34m.\u001b[0m\u001b[0mtanh\u001b[0m\u001b[0;34m(\u001b[0m\u001b[0;34m)\u001b[0m\u001b[0;34m\u001b[0m\u001b[0;34m\u001b[0m\u001b[0m\n\u001b[1;32m      3\u001b[0m \u001b[0my\u001b[0m\u001b[0;34m.\u001b[0m\u001b[0madd_\u001b[0m\u001b[0;34m(\u001b[0m\u001b[0;36m3\u001b[0m\u001b[0;34m)\u001b[0m \u001b[0;31m# inplace addition\u001b[0m\u001b[0;34m\u001b[0m\u001b[0;34m\u001b[0m\u001b[0m\n\u001b[0;32m----> 4\u001b[0;31m \u001b[0my\u001b[0m\u001b[0;34m.\u001b[0m\u001b[0mbackward\u001b[0m\u001b[0;34m(\u001b[0m\u001b[0;34m)\u001b[0m\u001b[0;34m\u001b[0m\u001b[0;34m\u001b[0m\u001b[0m\n\u001b[0m",
            "\u001b[0;32m/usr/local/lib/python3.7/dist-packages/torch/_tensor.py\u001b[0m in \u001b[0;36mbackward\u001b[0;34m(self, gradient, retain_graph, create_graph, inputs)\u001b[0m\n\u001b[1;32m    305\u001b[0m                 \u001b[0mcreate_graph\u001b[0m\u001b[0;34m=\u001b[0m\u001b[0mcreate_graph\u001b[0m\u001b[0;34m,\u001b[0m\u001b[0;34m\u001b[0m\u001b[0;34m\u001b[0m\u001b[0m\n\u001b[1;32m    306\u001b[0m                 inputs=inputs)\n\u001b[0;32m--> 307\u001b[0;31m         \u001b[0mtorch\u001b[0m\u001b[0;34m.\u001b[0m\u001b[0mautograd\u001b[0m\u001b[0;34m.\u001b[0m\u001b[0mbackward\u001b[0m\u001b[0;34m(\u001b[0m\u001b[0mself\u001b[0m\u001b[0;34m,\u001b[0m \u001b[0mgradient\u001b[0m\u001b[0;34m,\u001b[0m \u001b[0mretain_graph\u001b[0m\u001b[0;34m,\u001b[0m \u001b[0mcreate_graph\u001b[0m\u001b[0;34m,\u001b[0m \u001b[0minputs\u001b[0m\u001b[0;34m=\u001b[0m\u001b[0minputs\u001b[0m\u001b[0;34m)\u001b[0m\u001b[0;34m\u001b[0m\u001b[0;34m\u001b[0m\u001b[0m\n\u001b[0m\u001b[1;32m    308\u001b[0m \u001b[0;34m\u001b[0m\u001b[0m\n\u001b[1;32m    309\u001b[0m     \u001b[0;32mdef\u001b[0m \u001b[0mregister_hook\u001b[0m\u001b[0;34m(\u001b[0m\u001b[0mself\u001b[0m\u001b[0;34m,\u001b[0m \u001b[0mhook\u001b[0m\u001b[0;34m)\u001b[0m\u001b[0;34m:\u001b[0m\u001b[0;34m\u001b[0m\u001b[0;34m\u001b[0m\u001b[0m\n",
            "\u001b[0;32m/usr/local/lib/python3.7/dist-packages/torch/autograd/__init__.py\u001b[0m in \u001b[0;36mbackward\u001b[0;34m(tensors, grad_tensors, retain_graph, create_graph, grad_variables, inputs)\u001b[0m\n\u001b[1;32m    154\u001b[0m     Variable._execution_engine.run_backward(\n\u001b[1;32m    155\u001b[0m         \u001b[0mtensors\u001b[0m\u001b[0;34m,\u001b[0m \u001b[0mgrad_tensors_\u001b[0m\u001b[0;34m,\u001b[0m \u001b[0mretain_graph\u001b[0m\u001b[0;34m,\u001b[0m \u001b[0mcreate_graph\u001b[0m\u001b[0;34m,\u001b[0m \u001b[0minputs\u001b[0m\u001b[0;34m,\u001b[0m\u001b[0;34m\u001b[0m\u001b[0;34m\u001b[0m\u001b[0m\n\u001b[0;32m--> 156\u001b[0;31m         allow_unreachable=True, accumulate_grad=True)  # allow_unreachable flag\n\u001b[0m\u001b[1;32m    157\u001b[0m \u001b[0;34m\u001b[0m\u001b[0m\n\u001b[1;32m    158\u001b[0m \u001b[0;34m\u001b[0m\u001b[0m\n",
            "\u001b[0;31mRuntimeError\u001b[0m: one of the variables needed for gradient computation has been modified by an inplace operation: [torch.FloatTensor []], which is output 0 of TanhBackward0, is at version 1; expected version 0 instead. Hint: enable anomaly detection to find the operation that failed to compute its gradient, with torch.autograd.set_detect_anomaly(True)."
          ]
        }
      ],
      "source": [
        "x = torch.tensor(1.0, requires_grad=True)\n",
        "y = x.tanh()\n",
        "y.add_(3) # inplace addition\n",
        "y.backward()"
      ]
    },
    {
      "cell_type": "markdown",
      "metadata": {
        "deletable": false,
        "editable": false,
        "nbgrader": {
          "cell_type": "markdown",
          "checksum": "bfd84ec33f62c537a0ea6ea4f87291de",
          "grade": false,
          "grade_id": "cell-b9986c88256e8468",
          "locked": true,
          "schema_version": 3,
          "solution": false
        },
        "id": "pyTSUj-ACbY9"
      },
      "source": [
        "Aliasing is also something that can't be differentiated through and will result in a slightly more cryptic error.\n",
        "\n",
        "__Task__: Run the following code to see this in action. If you don't understand what this code does add some `print` statements to show the values of `x` and `y` at various points."
      ]
    },
    {
      "cell_type": "code",
      "execution_count": null,
      "metadata": {
        "id": "mAVA5gX8CbY-",
        "colab": {
          "base_uri": "https://localhost:8080/",
          "height": 218
        },
        "outputId": "edecbb2b-8f23-47ee-9d90-ee4f8c905368"
      },
      "outputs": [
        {
          "output_type": "error",
          "ename": "RuntimeError",
          "evalue": "ignored",
          "traceback": [
            "\u001b[0;31m---------------------------------------------------------------------------\u001b[0m",
            "\u001b[0;31mRuntimeError\u001b[0m                              Traceback (most recent call last)",
            "\u001b[0;32m<ipython-input-6-5033ea045f88>\u001b[0m in \u001b[0;36m<module>\u001b[0;34m()\u001b[0m\n\u001b[1;32m      1\u001b[0m \u001b[0mx\u001b[0m \u001b[0;34m=\u001b[0m \u001b[0mtorch\u001b[0m\u001b[0;34m.\u001b[0m\u001b[0mtensor\u001b[0m\u001b[0;34m(\u001b[0m\u001b[0;34m[\u001b[0m\u001b[0;36m1\u001b[0m\u001b[0;34m,\u001b[0m \u001b[0;36m2\u001b[0m\u001b[0;34m,\u001b[0m \u001b[0;36m3\u001b[0m\u001b[0;34m,\u001b[0m \u001b[0;36m4\u001b[0m\u001b[0;34m]\u001b[0m\u001b[0;34m,\u001b[0m \u001b[0mrequires_grad\u001b[0m\u001b[0;34m=\u001b[0m\u001b[0;32mTrue\u001b[0m\u001b[0;34m,\u001b[0m \u001b[0mdtype\u001b[0m\u001b[0;34m=\u001b[0m\u001b[0mtorch\u001b[0m\u001b[0;34m.\u001b[0m\u001b[0mfloat\u001b[0m\u001b[0;34m)\u001b[0m\u001b[0;34m\u001b[0m\u001b[0;34m\u001b[0m\u001b[0m\n\u001b[1;32m      2\u001b[0m \u001b[0my\u001b[0m \u001b[0;34m=\u001b[0m \u001b[0mx\u001b[0m\u001b[0;34m[\u001b[0m\u001b[0;34m:\u001b[0m\u001b[0;36m1\u001b[0m\u001b[0;34m]\u001b[0m\u001b[0;34m\u001b[0m\u001b[0;34m\u001b[0m\u001b[0m\n\u001b[0;32m----> 3\u001b[0;31m \u001b[0my\u001b[0m\u001b[0;34m.\u001b[0m\u001b[0madd_\u001b[0m\u001b[0;34m(\u001b[0m\u001b[0;36m3\u001b[0m\u001b[0;34m)\u001b[0m\u001b[0;34m\u001b[0m\u001b[0;34m\u001b[0m\u001b[0m\n\u001b[0m\u001b[1;32m      4\u001b[0m \u001b[0my\u001b[0m\u001b[0;34m.\u001b[0m\u001b[0mbackward\u001b[0m\u001b[0;34m(\u001b[0m\u001b[0;34m)\u001b[0m\u001b[0;34m\u001b[0m\u001b[0;34m\u001b[0m\u001b[0m\n",
            "\u001b[0;31mRuntimeError\u001b[0m: a view of a leaf Variable that requires grad is being used in an in-place operation."
          ]
        }
      ],
      "source": [
        "x = torch.tensor([1, 2, 3, 4], requires_grad=True, dtype=torch.float)\n",
        "y = x[:1]\n",
        "y.add_(3)\n",
        "y.backward()"
      ]
    },
    {
      "cell_type": "markdown",
      "source": [
        "**Note**:\n",
        "*The simple answer to this is that, once autograd creates the graph, and we have created our tensors which are an input to the graph, autograd will construct and track each operation on your created tensor. Now, since this tensor has requires_grad=True, and let's say I do a weight update after loss.backward(), autograd is probably considering as a part of the already created graph, which requires gradients. This leads to the RuntimeError: a leaf Variable that requires grad is being used in an in-place operation. Autograd is confused that why is a tensor which is a part of the computational graph being used outside/being used for some other operations/initialization of it inplace and this is a problem*\n",
        "\n",
        "*If we simply place the code under a with torch.no_grad(): code here we disable the gradients, and hence essentially it signals to autograd that this operation is not a part of our dynamic graph updates.*"
      ],
      "metadata": {
        "id": "asFm93A5eCHR"
      }
    },
    {
      "cell_type": "markdown",
      "metadata": {
        "deletable": false,
        "editable": false,
        "nbgrader": {
          "cell_type": "markdown",
          "checksum": "4e749620afa15537eddb1f61565c927e",
          "grade": false,
          "grade_id": "cell-76e1b1d7cbc02388",
          "locked": true,
          "schema_version": 3,
          "solution": false
        },
        "id": "5dATVJs1CbY-"
      },
      "source": [
        "## Dealing with multiple outputs\n",
        "\n",
        "PyTorch can deal with the case where there are multiple output variables if we can formulate the expression in terms of tensor operations. Consider the example from the presentation for example:\n",
        "\n",
        "$$\\begin{cases}\n",
        "     z = 2x + \\sin x\\\\\n",
        "     v = 4x + \\cos x\n",
        "\\end{cases}$$\n",
        "\n",
        "We could formulate this as:\n",
        "\n",
        "$$\n",
        "\\begin{bmatrix}z \\\\ v\\end{bmatrix} = \\begin{bmatrix}2 \\\\ 4\\end{bmatrix} \\odot \\bar{x} + \\begin{bmatrix}1 \\\\ 0\\end{bmatrix} \\odot \\sin\\bar x + \\begin{bmatrix}0 \\\\ 1\\end{bmatrix} \\odot \\cos\\bar x\n",
        "$$\n",
        "\n",
        "where \n",
        "\n",
        "$$\n",
        "\\bar x = \\begin{bmatrix}x \\\\ x\\end{bmatrix}\n",
        "$$\n",
        "\n",
        "and $\\odot$ represents the Hadamard or element-wise product. This is demonstrated using PyTorch in the following code block.\n",
        "\n",
        "__Task:__ run the code below."
      ]
    },
    {
      "cell_type": "code",
      "execution_count": null,
      "metadata": {
        "deletable": false,
        "editable": false,
        "nbgrader": {
          "cell_type": "code",
          "checksum": "5ab1d7ea5f6b1a017f7949fa0dd1c8f1",
          "grade": false,
          "grade_id": "cell-58a1e0676df73645",
          "locked": true,
          "schema_version": 3,
          "solution": false
        },
        "id": "khcyGiw3CbY_",
        "colab": {
          "base_uri": "https://localhost:8080/"
        },
        "outputId": "fc063372-5969-4623-ec6c-b1082ef521a0"
      },
      "outputs": [
        {
          "output_type": "stream",
          "name": "stdout",
          "text": [
            "tensor([[2.5403],\n",
            "        [3.1585]])\n"
          ]
        }
      ],
      "source": [
        "x = torch.tensor([[1.0],[1.0]], requires_grad=True)\n",
        "\n",
        "zv = ( torch.tensor([[2.0],[4.0]]) * x +\n",
        "         torch.tensor([[1.0], [0.0]]) * torch.sin(x) +\n",
        "         torch.tensor([[0.0], [1.0]]) * torch.cos(x) )\n",
        "        \n",
        "''' \n",
        "If the tensor is non-scalar (i.e. its data has more than one element) and requires gradient, the function additionally requires specifying gradient. \n",
        "It should be a tensor of matching type and location, that contains the gradient of the differentiated function w.r.t. self.\n",
        "'''\n",
        "zv.backward(torch.tensor([[1.0],[1.0]])) # Note as we have \"multiple outputs\" we must pass in a tensor of weights of the correct size\n",
        "\n",
        "print(x.grad)"
      ]
    },
    {
      "cell_type": "markdown",
      "metadata": {
        "deletable": false,
        "editable": false,
        "nbgrader": {
          "cell_type": "markdown",
          "checksum": "68158fbb8633636d8fdeaab2b8066186",
          "grade": false,
          "grade_id": "cell-5253f44d76ef4079",
          "locked": true,
          "schema_version": 3,
          "solution": false
        },
        "id": "zSR06_gGCbY_"
      },
      "source": [
        "__Task:__ Use the following box to write down the derivative of the expression for $\\begin{bmatrix}z \\\\ v\\end{bmatrix}$ and verify the gradients $\\partial z/\\partial x$ and $\\partial v/\\partial x$ are correct for $x=1$."
      ]
    },
    {
      "cell_type": "markdown",
      "metadata": {
        "deletable": false,
        "nbgrader": {
          "cell_type": "markdown",
          "checksum": "1e10ee0f8f8395414cb70aa241376003",
          "grade": true,
          "grade_id": "cell-b85be7c90ef1f408",
          "locked": false,
          "points": 3,
          "schema_version": 3,
          "solution": true
        },
        "id": "7StEOrHbCbY_"
      },
      "source": [
        "dz = 2.5403\n",
        "\n",
        "dv = 3.15852"
      ]
    },
    {
      "cell_type": "markdown",
      "metadata": {
        "id": "xgGP_czrCbY_"
      },
      "source": [
        "## Gradient descent & gradients with respect to a vector\n",
        "Let's put everything together and using automatically computed gradients to find the minima of a function by taking steps down the gradient from an initial position. Rather than explicitly creating each input variable as a scalar as in the previous examples, we'll use a vector instead (so our gradients will be with respect to each element of the vector).\n",
        "\n",
        "__Task:__ work through the following example to see how taking gradients with respect to a vector works & how simple gradient descent optimisation can be implemented."
      ]
    },
    {
      "cell_type": "code",
      "execution_count": null,
      "metadata": {
        "id": "7JfCefnNCbZA",
        "colab": {
          "base_uri": "https://localhost:8080/"
        },
        "outputId": "dbef7d50-a709-42ba-e4ed-4f7fbcc069ee"
      },
      "outputs": [
        {
          "output_type": "stream",
          "name": "stdout",
          "text": [
            "(tensor([[1.6000],\n",
            "        [0.8000],\n",
            "        [8.0000]], requires_grad=True), 67.19999694824219)\n",
            "(tensor([[0.1718],\n",
            "        [0.0859],\n",
            "        [0.8590]], requires_grad=True), 0.7747630476951599)\n",
            "(tensor([[0.0184],\n",
            "        [0.0092],\n",
            "        [0.0922]], requires_grad=True), 0.008932411670684814)\n",
            "(tensor([[0.0020],\n",
            "        [0.0010],\n",
            "        [0.0099]], requires_grad=True), 0.00010298370034433901)\n",
            "(tensor([[0.0002],\n",
            "        [0.0001],\n",
            "        [0.0011]], requires_grad=True), 1.1873213452417986e-06)\n",
            "(tensor([[2.2836e-05],\n",
            "        [1.1418e-05],\n",
            "        [1.1418e-04]], requires_grad=True), 1.3688886468798955e-08)\n",
            "(tensor([[2.4520e-06],\n",
            "        [1.2260e-06],\n",
            "        [1.2260e-05]], requires_grad=True), 1.5782215811999123e-10)\n",
            "(tensor([[2.6328e-07],\n",
            "        [1.3164e-07],\n",
            "        [1.3164e-06]], requires_grad=True), 1.8195657654207498e-12)\n",
            "(tensor([[2.8270e-08],\n",
            "        [1.4135e-08],\n",
            "        [1.4135e-07]], requires_grad=True), 2.0978168543115717e-14)\n",
            "(tensor([[3.0354e-09],\n",
            "        [1.5177e-09],\n",
            "        [1.5177e-08]], requires_grad=True), 2.418617877589929e-16)\n"
          ]
        }
      ],
      "source": [
        "# This is our starting vector\n",
        "initial=[[2.0], [1.0], [10.0]]\n",
        "\n",
        "# This is the function we will optimise (feel free to work out the analytic minima!)\n",
        "def function(x):\n",
        "    return x[0]**2 + x[1]**2 + x[2]**2\n",
        "\n",
        "x = torch.tensor(initial, requires_grad=True, dtype=torch.float)\n",
        "for i in range(0,100):\n",
        "    # manually dispose of the gradient (in reality it would be better to detach and zero it to reuse memory)\n",
        "    # need to set to None because of caching\n",
        "    x.grad=None\n",
        "    # evaluate the function\n",
        "    J = function(x) \n",
        "    # auto-compute the gradients at the previously evaluated point x\n",
        "    J.backward()\n",
        "\n",
        "    # x.grad is Jacobian in this case\n",
        "    x.data = x - x.grad*0.1 \n",
        "    \n",
        "    if i%10 == 0:\n",
        "        print((x, function(x).item()))\n"
      ]
    },
    {
      "cell_type": "markdown",
      "metadata": {
        "deletable": false,
        "editable": false,
        "nbgrader": {
          "cell_type": "markdown",
          "checksum": "1a6fb5c11feed5015f3836b04ed25d65",
          "grade": false,
          "grade_id": "cell-fe38c3ff8580d8e1",
          "locked": true,
          "schema_version": 3,
          "solution": false
        },
        "id": "vjd2SrvhCbZA"
      },
      "source": [
        "__Task__: Answer the following question in the box below: Why must the update in the code above be assigned to `x.data` rather than `x`?"
      ]
    },
    {
      "cell_type": "markdown",
      "metadata": {
        "deletable": false,
        "nbgrader": {
          "cell_type": "markdown",
          "checksum": "2b3a76629b34fb1c8a80c90d9df28dd9",
          "grade": true,
          "grade_id": "cell-855b4580505f3b5c",
          "locked": false,
          "points": 3,
          "schema_version": 3,
          "solution": true
        },
        "id": "50XWCMD3CbZA"
      },
      "source": [
        "**Note:**\n",
        "\n",
        "*All Tensors that have requires_grad which is False will be leaf Tensors by convention.*\n",
        "\n",
        "*For Tensors that have requires_grad which is True, they will be leaf Tensors if they were created by the user. This means that they are not the result of an operation and so grad_fn is None.*\n",
        "\n",
        "*Only leaf Tensors will have their grad populated during a call to backward(). To get grad populated for non-leaf Tensors, you can use retain_grad().*\n",
        "\n",
        "When we update x instead of x.data, we create a new dependency and x.grad is not computed for this non-leaf node. //Confirm with Sulaiman"
      ]
    },
    {
      "cell_type": "markdown",
      "metadata": {
        "id": "eggYtR8lCbZA"
      },
      "source": [
        "## Differentiating through random operations\n",
        "\n",
        "We'll end with an example that will be important later in the course: differentiating with respect to the parameters of a random number generator.\n",
        "\n",
        "Assume that as some part of a differentiable program that we write we wish to incorporate a random element where we sample values, $z$ from a Normal distribution: $z \\sim \\mathcal{N}(\\mu,\\sigma^2)$. We want to learn the parameters of the generator $\\mu$ and $\\sigma^2$, but how can we do this? In a differentiable program setting we want to differentiate with respect to these parameters, but at first glance it isn't at all obvious what this means as the generator _just_ produces numbers which themselves don't have gradients.\n",
        "\n",
        "The answer is often called the _reparameterisation trick_: If we note that sampling a Normal distribution with a specfic mean and variance is equivalent to drawing numbers from a standard Normal distribution and scaling and shifting them: $z \\sim \\mathcal{N}(\\mu,\\sigma^2) \\equiv z \\sim \\mu + \\sigma\\mathcal{N}(0,1)\\equiv z = \\mu + \\sigma \\zeta\\, \\rm{where}\\, \\zeta\\sim\\mathcal{N}(0,1)$. With this reparameterisation the gradients with respect to the parameters are obvious.\n",
        "\n",
        "The following code block demonstrates this in practice; each of the gradients can be interpreted as how much an infintesimal change in $\\mu$ or $\\sigma$ would change $z$ if we could repeat the sampling operation again with the same value of `torch.randn(1)` being produced:"
      ]
    },
    {
      "cell_type": "code",
      "execution_count": null,
      "metadata": {
        "id": "UFcQ0Nj_CbZB",
        "colab": {
          "base_uri": "https://localhost:8080/"
        },
        "outputId": "f4b7e6b3-9730-4366-ee12-f51572193182"
      },
      "outputs": [
        {
          "output_type": "stream",
          "name": "stdout",
          "text": [
            "z: 1.0745223760604858 \tdzdmu: 1.0 \tdzdsigma: 0.07452238351106644\n",
            "z: 2.1807568073272705 \tdzdmu: 1.0 \tdzdsigma: 1.1807568073272705\n",
            "z: 0.6300233602523804 \tdzdmu: 1.0 \tdzdsigma: -0.36997660994529724\n",
            "z: 1.1098886728286743 \tdzdmu: 1.0 \tdzdsigma: 0.1098887026309967\n",
            "z: 1.3763282299041748 \tdzdmu: 1.0 \tdzdsigma: 0.3763282597064972\n",
            "z: 1.0162429809570312 \tdzdmu: 1.0 \tdzdsigma: 0.016242990270256996\n",
            "z: 1.5799866914749146 \tdzdmu: 1.0 \tdzdsigma: 0.5799866914749146\n",
            "z: 0.8169995546340942 \tdzdmu: 1.0 \tdzdsigma: -0.18300043046474457\n",
            "z: 1.0781015157699585 \tdzdmu: 1.0 \tdzdsigma: 0.07810147106647491\n",
            "z: 1.0106585025787354 \tdzdmu: 1.0 \tdzdsigma: 0.010658526793122292\n"
          ]
        }
      ],
      "source": [
        "mu = torch.tensor(1.0, requires_grad=True)\n",
        "sigma = torch.tensor(1.0, requires_grad=True)\n",
        "\n",
        "for i in range(10):\n",
        "    mu.grad = None\n",
        "    sigma.grad = None\n",
        "    \n",
        "    z = mu + sigma * torch.randn(1)\n",
        "    z.backward()\n",
        "    print(\"z:\", z.item(), \"\\tdzdmu:\", mu.grad.item(), \"\\tdzdsigma:\", sigma.grad.item())"
      ]
    },
    {
      "cell_type": "code",
      "execution_count": null,
      "metadata": {
        "id": "uQt8h7MpCbZB"
      },
      "outputs": [],
      "source": [
        ""
      ]
    }
  ],
  "metadata": {
    "kernelspec": {
      "display_name": "Python 3",
      "language": "python",
      "name": "python3"
    },
    "language_info": {
      "codemirror_mode": {
        "name": "ipython",
        "version": 3
      },
      "file_extension": ".py",
      "mimetype": "text/x-python",
      "name": "python",
      "nbconvert_exporter": "python",
      "pygments_lexer": "ipython3",
      "version": "3.7.7"
    },
    "colab": {
      "name": "Copy of 2_3_PyTorchAD.ipynb",
      "provenance": []
    }
  },
  "nbformat": 4,
  "nbformat_minor": 0
}